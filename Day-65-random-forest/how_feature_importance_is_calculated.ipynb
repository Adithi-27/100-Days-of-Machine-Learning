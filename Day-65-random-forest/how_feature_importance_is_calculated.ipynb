{
  "nbformat": 4,
  "nbformat_minor": 0,
  "metadata": {
    "colab": {
      "provenance": []
    },
    "kernelspec": {
      "name": "python3",
      "display_name": "Python 3"
    },
    "language_info": {
      "name": "python"
    }
  },
  "cells": [
    {
      "cell_type": "code",
      "source": [
        "from sklearn.datasets import make_classification"
      ],
      "metadata": {
        "id": "pV07kXGFFmoa"
      },
      "execution_count": null,
      "outputs": []
    },
    {
      "cell_type": "code",
      "source": [
        "from sklearn.tree import DecisionTreeClassifier"
      ],
      "metadata": {
        "id": "gqNpBlnkFqBz"
      },
      "execution_count": null,
      "outputs": []
    },
    {
      "cell_type": "code",
      "source": [
        "X,y = make_classification(n_samples=5, n_classes=2,\n",
        "                               n_features=2, n_informative=2, n_redundant=0,\n",
        "                               random_state=0)"
      ],
      "metadata": {
        "id": "kbXNiZdMFrI1"
      },
      "execution_count": null,
      "outputs": []
    },
    {
      "cell_type": "code",
      "source": [
        "clf = DecisionTreeClassifier()"
      ],
      "metadata": {
        "id": "ku_Sy-_nFupa"
      },
      "execution_count": null,
      "outputs": []
    },
    {
      "cell_type": "code",
      "source": [
        "clf.fit(X,y)"
      ],
      "metadata": {
        "id": "KB0XV-UXFyLY"
      },
      "execution_count": null,
      "outputs": []
    },
    {
      "cell_type": "code",
      "source": [
        "from sklearn.tree import plot_tree\n",
        "plot_tree(clf)"
      ],
      "metadata": {
        "id": "vx_b3duFF1Og"
      },
      "execution_count": null,
      "outputs": []
    },
    {
      "cell_type": "code",
      "source": [
        "clf.feature_importances_"
      ],
      "metadata": {
        "id": "TBYvvPuxF563"
      },
      "execution_count": null,
      "outputs": []
    },
    {
      "cell_type": "code",
      "source": [
        "from sklearn.ensemble import RandomForestClassifier\n",
        "rf = RandomForestClassifier(n_estimators=2)\n",
        "rf.fit(X,y)"
      ],
      "metadata": {
        "id": "V0bpJkG0F_df"
      },
      "execution_count": null,
      "outputs": []
    },
    {
      "cell_type": "code",
      "source": [
        "rf.feature_importances_"
      ],
      "metadata": {
        "id": "fsoA8_kdGCY1"
      },
      "execution_count": null,
      "outputs": []
    },
    {
      "cell_type": "code",
      "source": [
        "print(rf.estimators_[0].feature_importances_)\n",
        "print(rf.estimators_[1].feature_importances_)\n",
        "\n",
        "print((1 + 0.555)/2)"
      ],
      "metadata": {
        "id": "AX06guSPGFfn"
      },
      "execution_count": null,
      "outputs": []
    },
    {
      "cell_type": "code",
      "source": [
        "X,y = make_classification(n_samples=15, n_classes=2,\n",
        "                               n_features=2, n_informative=2, n_redundant=0,\n",
        "                               random_state=0)"
      ],
      "metadata": {
        "id": "nXyqm0HaGVWM"
      },
      "execution_count": null,
      "outputs": []
    },
    {
      "cell_type": "code",
      "source": [
        "from sklearn.tree import DecisionTreeClassifier"
      ],
      "metadata": {
        "id": "pOJMiLaeGZul"
      },
      "execution_count": null,
      "outputs": []
    },
    {
      "cell_type": "code",
      "source": [
        "clf = DecisionTreeClassifier()"
      ],
      "metadata": {
        "id": "kmL0g-8cGdBv"
      },
      "execution_count": null,
      "outputs": []
    },
    {
      "cell_type": "code",
      "source": [
        "clf.fit(X,y)"
      ],
      "metadata": {
        "id": "ZqKkSgz1Ggvx"
      },
      "execution_count": null,
      "outputs": []
    },
    {
      "cell_type": "code",
      "source": [
        "from sklearn.tree import plot_tree\n",
        "plot_tree(clf)"
      ],
      "metadata": {
        "id": "B6xzVSF1Gkbu"
      },
      "execution_count": null,
      "outputs": []
    },
    {
      "cell_type": "code",
      "source": [
        "clf.feature_importances_"
      ],
      "metadata": {
        "id": "Hknyj3_1GpLU"
      },
      "execution_count": null,
      "outputs": []
    }
  ]
}